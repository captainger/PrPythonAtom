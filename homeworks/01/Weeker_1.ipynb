{
 "cells": [
  {
   "cell_type": "markdown",
   "metadata": {},
   "source": [
    "# Недельник 1\n",
    "\n",
    "Как было сказано на лекции, на текущей неделе вы получаете ежедневные задания. Система оценки следующая: в первый день(четверг) вы делаете первый pull-request в ветку homework_01. Потом каждый день делаете коммит, он будет автоматически привязывать к pull-request. Если задачка не сделана в течении 2-х дней она сгорает. (Можно четверг сделать в четверг и пятницу)"
   ]
  },
  {
   "cell_type": "markdown",
   "metadata": {},
   "source": [
    "# Четверг"
   ]
  },
  {
   "cell_type": "code",
   "execution_count": 97,
   "metadata": {},
   "outputs": [],
   "source": [
    "#TODO Сделайте калькулятор произвольных выражений, операции следующие: +, -, /, ^, *. скобок нет\n",
    "def calculate(input_str):\n",
    "    s = input_str.replace(\"^\", \"**\")\n",
    "    try: \n",
    "        x = eval(s)\n",
    "    except SyntaxError:\n",
    "        return \"Некорректное выражение\"\n",
    "    except ZeroDivisionError:\n",
    "        return \"Деление на ноль\"\n",
    "    except NameError:\n",
    "        return \"В выражении неизвестные символы\"\n",
    "    else:    \n",
    "        return x"
   ]
  },
  {
   "cell_type": "code",
   "execution_count": 103,
   "metadata": {},
   "outputs": [],
   "source": [
    "assert calculate(\"2 + 2 * 2\") == 6\n",
    "assert calculate(\"345 / 5 * 21\") == 1449.\n",
    "assert calculate(\"3^3 - 10 + 41 * 3\") == 140\n",
    "assert calculate(\"42 / 7 * 32\") == 192.0\n",
    "assert calculate(\"3 * 2 - 1 / 0\") == \"Деление на ноль\"\n",
    "assert calculate(\"3^2^4\") == 43046721\n",
    "assert calculate(\"1  /7 + *3\") == \"Некорректное выражение\"\n",
    "assert calculate(\"5 * 3 + abc\") == \"В выражении неизвестные символы\"\n",
    "#TODO Дополнить еще 2-мя своими тестами"
   ]
  },
  {
   "cell_type": "markdown",
   "metadata": {},
   "source": [
    "# Пятница"
   ]
  },
  {
   "cell_type": "code",
   "execution_count": 2,
   "metadata": {},
   "outputs": [],
   "source": [
    "#TODO метод разворачивающий строку HE2LO -> HELLO (число означает сколько раз встречается буква)\n",
    "def transform_string(s):\n",
    "    result = \"\"\n",
    "    count = 0\n",
    "    for i in range(len(s)):\n",
    "        if not s[i].isdigit():\n",
    "            x = 1 if count == 0 else count\n",
    "            result += s[i] * x\n",
    "            count = 0\n",
    "        else:\n",
    "            count = count * 10 + int(s[i])\n",
    "    return result"
   ]
  },
  {
   "cell_type": "code",
   "execution_count": 3,
   "metadata": {},
   "outputs": [],
   "source": [
    "assert transform_string(\"HE2LO\") == \"HELLO\"\n",
    "assert transform_string(\"HI\") == \"HI\"\n",
    "assert transform_string(\"пр12ивет\") == \"приииииииииииивет\"\n",
    "assert transform_string(\"2л3у78н65тик\") == 'ллуууннннннннннннннннннннннннннннннннннннннннннннннннннннннннннннннннннннннннннннннтттттттттттттттттттттттттттттттттттттттттттттттттттттттттттттттттик'\n",
    "assert transform_string(\"П4уумба\") == \"Пууууумба\"\n",
    "assert transform_string(\"12$m3oney\") == \"$$$$$$$$$$$$moooney\"\n",
    "#TODO Дописать 2 своих теста"
   ]
  },
  {
   "cell_type": "markdown",
   "metadata": {},
   "source": [
    "# Суббота"
   ]
  },
  {
   "cell_type": "code",
   "execution_count": 22,
   "metadata": {},
   "outputs": [],
   "source": [
    "#TODO метод выводящий статистику по строке, кол-во гласных, согласных, цифр, строчных букв, прописных букв\n",
    "def string_stat(inp_string):\n",
    "    vowels = {\"а\", \"е\", \"ё\", \"и\", \"о\", \"у\", 'ы', 'э', 'ю', 'я'}\n",
    "    consonants = {\"й\", \"ц\", \"к\", \"н\", \"г\", \"ш\", 'щ', 'з', 'х', 'ъ', \"ф\", \"в\", \"п\", \"р\", \"л\", \"д\", 'ж', 'ч', 'с', 'м', 'т', 'ь', 'б'}\n",
    "    result = [0 for i in range(5)]\n",
    "    for lt in inp_string:\n",
    "        if lt.isdigit():\n",
    "            result[2] += 1\n",
    "        elif lt.isalpha():\n",
    "            if lt.lower() in vowels:\n",
    "                result[0] += 1\n",
    "            elif lt.lower() in consonants:\n",
    "                result[1] += 1\n",
    "            if lt.isupper():\n",
    "                result[4] += 1\n",
    "            else:\n",
    "                result[3] += 1\n",
    "    return tuple(result)"
   ]
  },
  {
   "cell_type": "code",
   "execution_count": 24,
   "metadata": {},
   "outputs": [
    {
     "name": "stdout",
     "output_type": "stream",
     "text": [
      "[2, 4, 0, 5, 1]\n",
      "[3, 3, 1, 3, 3]\n",
      "[0, 0, 1, 3, 2]\n",
      "[8, 14, 0, 11, 11]\n"
     ]
    }
   ],
   "source": [
    "assert string_stat(\"Тевирп\") == (2, 4, 0, 5, 1)\n",
    "assert string_stat(\"КоРоВа4\") == (3, 3, 1, 3, 3)\n",
    "assert string_stat(\"L8eefQ\") == (0, 0, 1, 3, 2)\n",
    "assert string_stat(\"вАркаЛось ХЛИВкиЕ ШОрьКИ\") == (8, 14, 0, 11, 11)\n",
    "#TODO 2 своих теста"
   ]
  },
  {
   "cell_type": "markdown",
   "metadata": {},
   "source": [
    "# Воскресенье - ВЫХОДНОЙ"
   ]
  },
  {
   "cell_type": "markdown",
   "metadata": {},
   "source": [
    "# Понедельник"
   ]
  },
  {
   "cell_type": "code",
   "execution_count": 60,
   "metadata": {},
   "outputs": [],
   "source": [
    "#TODO инвертируйте словарь из k - [v_1, v_2] в v_1 [k_1]\n",
    "def dict_inverter(input_dict):\n",
    "    result = {}\n",
    "    for key, value in input_dict.items():\n",
    "        for obj in value:\n",
    "            if obj in result:\n",
    "                if type(result[obj]) != list:\n",
    "                    result[obj] = [result[obj]]\n",
    "                result[obj].append(key)\n",
    "            else:\n",
    "                result[obj] = key\n",
    "    return result"
   ]
  },
  {
   "cell_type": "code",
   "execution_count": 63,
   "metadata": {},
   "outputs": [
    {
     "name": "stdout",
     "output_type": "stream",
     "text": [
      "{'eatable': 'mango', 'sleepable': 'pillow'}\n",
      "{'eatable': 'mango', 'readable': 'mango'}\n",
      "{'eatable': ['mango', 'banana']}\n",
      "{'eatable': ['meat', 'tomato'], 'salty': ['meat', 'blood'], 'delicious': 'meat', 'red': ['tomato', 'blood'], 'gross': 'tomato'}\n"
     ]
    }
   ],
   "source": [
    "assert dict_inverter({\"mango\" : [\"eatable\"], \"pillow\": [\"sleepable\"]}) == {\"eatable\": \"mango\", \"sleepable\": \"pillow\"}\n",
    "assert dict_inverter({\"mango\" : [\"eatable\", \"readable\"]}) == {\"readable\":\"mango\", \"eatable\":\"mango\"}\n",
    "assert dict_inverter({\"mango\" : [\"eatable\"], \"banana\": [\"eatable\"]}) == {\"eatable\": [\"mango\", \"banana\"]}\n",
    "assert dict_inverter({\"meat\" : [\"eatable\", \"salty\", \"delicious\"], \n",
    "                      \"tomato\" : [\"eatable\", \"red\", \"gross\"], \n",
    "                      \"blood\" : [\"salty\", \"red\"]}) == {\"eatable\" : [\"meat\", \"tomato\"], \n",
    "                                                                  \"delicious\" : \"meat\",\n",
    "                                                                 \"red\" : [\"tomato\", \"blood\"],\n",
    "                                                                 \"salty\" : [\"meat\", \"blood\"],\n",
    "                                                                 \"gross\" : \"tomato\"} \n",
    "#TODO Один свой тест"
   ]
  },
  {
   "cell_type": "markdown",
   "metadata": {},
   "source": [
    "# Вторник"
   ]
  },
  {
   "cell_type": "code",
   "execution_count": 33,
   "metadata": {},
   "outputs": [],
   "source": [
    "#TODO вывести уникальные элементы массива\n",
    "def uniq_array(input_arr):\n",
    "    x = set(input_arr)\n",
    "    return list(x)"
   ]
  },
  {
   "cell_type": "code",
   "execution_count": 34,
   "metadata": {},
   "outputs": [],
   "source": [
    "assert uniq_array([0]) == [0]\n",
    "assert uniq_array([0, 1, 2, 3]) == [0, 1, 2, 3]\n",
    "assert uniq_array([\"f\", \"t\", \"f\"]) == ['t', 'f'] or uniq_array([\"f\", \"t\"])\n",
    "assert uniq_array(['rt', 'rt', 'rt', 'rt']) == ['rt']\n",
    "res = uniq_array(['моё', 'сердце', 'остановилось', 'моё' ,'сердце', 'замерло'])\n",
    "assert len(res) == 4 and ('моё' in res) and ('сердце' in res) and ('остановилось' in res) and ('замерло' in res)\n",
    "assert uniq_array([]) == []"
   ]
  },
  {
   "cell_type": "code",
   "execution_count": null,
   "metadata": {},
   "outputs": [],
   "source": []
  }
 ],
 "metadata": {
  "kernelspec": {
   "display_name": "Python 3",
   "language": "python",
   "name": "python3"
  },
  "language_info": {
   "codemirror_mode": {
    "name": "ipython",
    "version": 3
   },
   "file_extension": ".py",
   "mimetype": "text/x-python",
   "name": "python",
   "nbconvert_exporter": "python",
   "pygments_lexer": "ipython3",
   "version": "3.6.5"
  }
 },
 "nbformat": 4,
 "nbformat_minor": 2
}
