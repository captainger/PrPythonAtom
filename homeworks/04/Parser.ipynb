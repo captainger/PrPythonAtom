{
 "cells": [
  {
   "cell_type": "code",
   "execution_count": 103,
   "metadata": {},
   "outputs": [],
   "source": [
    "import requests\n",
    "from bs4 import BeautifulSoup\n"
   ]
  },
  {
   "cell_type": "code",
   "execution_count": 156,
   "metadata": {},
   "outputs": [],
   "source": [
    "#theme = None главная страница\n",
    "#content = article, news\n",
    "class tprogerParser():\n",
    "    def __init__(self):\n",
    "        self.main_page = \"https://tproger.ru\"\n",
    "        self.themes = self._themes_list()\n",
    "    \n",
    "    def _themes_list(self):\n",
    "        r = requests.get(self.main_page)\n",
    "        soup = BeautifulSoup(r.text, \"html.parser\")\n",
    "        themes = soup.find_all(\"div\", attrs={\"class\": [\"modal-tag-cloud tagcloud\"]})[0].find_all('a')\n",
    "        d = {}\n",
    "        for theme in themes:\n",
    "            href = theme['href']\n",
    "            text = theme.text\n",
    "            d[text] = href\n",
    "        return d\n",
    "\n",
    "    def _parser(self,theme, content, count):\n",
    "        if theme == None:\n",
    "            href = self.main_page\n",
    "        else:\n",
    "            href = self.themes[theme]\n",
    "\n",
    "        req = requests.get(href)\n",
    "        page = BeautifulSoup(req.text, \"html.parser\")\n",
    "        content_list = []\n",
    "        if content == 'news':\n",
    "            news = page.find_all(\"div\", attrs={\"class\": [\"news-row\"]})\n",
    "            for r in news:\n",
    "                href = r.find('a')['href']\n",
    "                text = r.find('a').text\n",
    "                date = r.find('div', attrs={'class':['news-date']}).text\n",
    "                content_list.append([href,(date, text)])\n",
    "    \n",
    "        else:\n",
    "            article = page.find_all(\"article\")\n",
    "            for t in article:\n",
    "                if 'type-post' not in t['class']:\n",
    "                    continue\n",
    "                else:\n",
    "                    href = t.find('a')['href']\n",
    "                    text = t.find('span', attrs={'class':'entry-title-heading'}).text\n",
    "                    content_list.append([href, text])\n",
    "\n",
    "        if len(content_list) <= count:\n",
    "            return content_list\n",
    "        else:\n",
    "            return content_list[:count]\n",
    "        \n",
    "    def show_themes(self):\n",
    "        print('Доступные темы:')\n",
    "        for key in self.themes:\n",
    "            print(key)\n",
    "    \n",
    "    def get_content(self, theme=None, content='news', count=5):\n",
    "        if theme not in self.themes and theme != None:\n",
    "            print('Такой темы не существует. Доступные темы можно получить с помощью метода show_themes()')\n",
    "            return\n",
    "        if content != 'news' and content != 'article':\n",
    "            print('Тип контента только news или article')\n",
    "            return\n",
    "        content_list = self._parser(theme, content, count)\n",
    "        for c in content_list:\n",
    "            if content == 'news':\n",
    "                print(c[1][0].strip(), c[1][1],'\\n',c[0])\n",
    "            else:\n",
    "                print(c[1], '\\n', c[0])"
   ]
  },
  {
   "cell_type": "code",
   "execution_count": 152,
   "metadata": {},
   "outputs": [
    {
     "name": "stdout",
     "output_type": "stream",
     "text": [
      "Доступные темы:\n",
      ".NET\n",
      "Adobe\n",
      "Amazon\n",
      "Android\n",
      "API\n",
      "Apple\n",
      "Big Data\n",
      "Bitcoin\n",
      "C#\n",
      "C++\n",
      "Cloudflare\n",
      "CSS\n",
      "Data Science\n",
      "DeepMind\n",
      "DevOps\n",
      "DIY\n",
      "Django\n",
      "Docker\n",
      "Ethereum\n",
      "F8 2017\n",
      "Facebook\n",
      "Firefox\n",
      "Fuchsia\n",
      "Git\n",
      "GitHub\n",
      "GitLab\n",
      "Go\n",
      "Google\n",
      "Google Chrome\n",
      "Google I/O 2017\n",
      "GTC 2017\n",
      "Hardware\n",
      "HoloLens\n",
      "HTML\n",
      "IBM\n",
      "IDE\n",
      "Intel\n",
      "iOS\n",
      "Java\n",
      "JavaScript\n",
      "JetBrains\n",
      "jQuery\n",
      "Kotlin\n",
      "Linux\n",
      "macOS\n",
      "Microsoft\n",
      "Microsoft Build 2017\n",
      "MIT\n",
      "Mozilla\n",
      "MySQL\n",
      "Node.js\n",
      "Open Source\n",
      "Opera\n",
      "Oracle\n",
      "Perl\n",
      "PHP\n",
      "Python\n",
      "Raspberry Pi\n",
      "React\n",
      "Ruby\n",
      "Ruby on Rails\n",
      "Rust\n",
      "Samsung\n",
      "Scala\n",
      "SEO\n",
      "SQL\n",
      "Stack Overflow\n",
      "Swift\n",
      "Telegram\n",
      "TypeScript\n",
      "Unity\n",
      "VPN\n",
      "WebAssembly\n",
      "Wi-Fi\n",
      "Windows\n",
      "Windows 10\n",
      "WordPress\n",
      "Автопилот\n",
      "Алгоритмы\n",
      "Алгоритмы и структуры данных\n",
      "Базы данных\n",
      "Безопасность\n",
      "Безопасный код\n",
      "Биотехнологии\n",
      "Блоги\n",
      "Блокчейн\n",
      "Боты\n",
      "Браузеры\n",
      "Веб-дизайн\n",
      "Веб-разработка\n",
      "Виртуальная реальность\n",
      "ВКонтакте\n",
      "Головоломки\n",
      "Дизайн интерфейсов и UX\n",
      "Для мотивации\n",
      "Для начинающих\n",
      "Для продвинутых\n",
      "Для продолжающих\n",
      "Дополненная реальность\n",
      "Задачи повышенной сложности\n",
      "Задачи умеренной сложности\n",
      "Игры для программистов\n",
      "Инструменты\n",
      "Инструменты командной строки\n",
      "Интернет\n",
      "Интернет вещей\n",
      "Искусственный интеллект\n",
      "История IT\n",
      "История успеха\n",
      "Карьера\n",
      "Квантовые вычисления\n",
      "Кодстайл\n",
      "Компиляторы\n",
      "Компьютерная графика\n",
      "Компьютерное зрение\n",
      "Конференции\n",
      "Красивый хак\n",
      "Криптовалюты\n",
      "Криптография\n",
      "Лучшая практика\n",
      "Майнинг\n",
      "Массивы и строки\n",
      "Математика и теория вероятностей\n",
      "Материалы от друзей Tproger\n",
      "Машинное обучение\n",
      "Методологии разработки\n",
      "Многопоточность\n",
      "Мобильная разработка\n",
      "Музыка\n",
      "На английском языке\n",
      "Навыки\n",
      "Нейронные сети\n",
      "Низкоуровневое программирование\n",
      "Облачные технологии\n",
      "Обучающие курсы\n",
      "Обучение программированию\n",
      "Объектно-ориентированное программирование\n",
      "Олимпиадное программирование\n",
      "Операционные системы\n",
      "Опрос\n",
      "Оптимизация\n",
      "Организация разработки\n",
      "Основные принципы программирования\n",
      "Отладка\n",
      "Парсинг\n",
      "Партнёрский материал\n",
      "песочница\n",
      "Работа\n",
      "Разработка игр\n",
      "Распознавание\n",
      "Рекурсия и динамика\n",
      "Ретро\n",
      "Роботы\n",
      "Роскомнадзор\n",
      "Сервисы\n",
      "Сетевые протоколы\n",
      "Собеседование\n",
      "Советы\n",
      "Социальные сети\n",
      "Суперкомпьютеры\n",
      "Тестирование\n",
      "Управление проектами\n",
      "Финтех\n",
      "Форматы хранения данных\n",
      "Фреймворки\n",
      "Фронтенд\n",
      "Функциональное программирование\n",
      "Чипокалипсис\n",
      "Шпаргалки\n",
      "Язык ассемблера\n",
      "Язык Си\n",
      "Языки программирования\n",
      "Яндекс\n"
     ]
    }
   ],
   "source": [
    "par = tprogerParser()\n",
    "par.show_themes()"
   ]
  },
  {
   "cell_type": "code",
   "execution_count": 157,
   "metadata": {},
   "outputs": [
    {
     "name": "stdout",
     "output_type": "stream",
     "text": [
      "06.10 Python лидирует в рейтинге PYPL за октябрь 2018 года \n",
      " https://tproger.ru/news/pypl-october-2018/\n",
      "26.09 Выпущены Java SE 11 и JDK 11 \n",
      " https://tproger.ru/news/jdk-java-se-11-release/\n",
      "21.09 Oracle представила JavaFX 11 в качестве отдельного модуля \n",
      " https://tproger.ru/news/javafx-11-separate-module/\n",
      "31.08 Google представила открытую криптографическую библиотеку Tink \n",
      " https://tproger.ru/news/google-tink/\n"
     ]
    }
   ],
   "source": [
    "par.get_content(theme='Java', content = 'news')"
   ]
  },
  {
   "cell_type": "code",
   "execution_count": 158,
   "metadata": {},
   "outputs": [
    {
     "name": "stdout",
     "output_type": "stream",
     "text": [
      "Звёздный Python: где и как используются * и ** \n",
      " https://tproger.ru/translations/asterisks-in-python-what-they-are-and-how-to-use-them/\n",
      "Рефакторим код на Python с помощью тестов \n",
      " https://tproger.ru/translations/python-refactoring-with-tests/\n",
      "26 полезных приёмов и хитростей Python \n",
      " https://tproger.ru/translations/an-a-z-of-python-tricks/\n"
     ]
    }
   ],
   "source": [
    "par.get_content(theme='Python', content = 'article', count=3)"
   ]
  },
  {
   "cell_type": "code",
   "execution_count": 159,
   "metadata": {},
   "outputs": [
    {
     "name": "stdout",
     "output_type": "stream",
     "text": [
      "20:42 «Коммерсантъ»: Внутренние файлы «Сбербанка» утекли в сеть \n",
      " https://tproger.ru/news/sberbank-file-leak/\n"
     ]
    }
   ],
   "source": [
    "par.get_content(count=1)"
   ]
  },
  {
   "cell_type": "code",
   "execution_count": 160,
   "metadata": {},
   "outputs": [
    {
     "name": "stdout",
     "output_type": "stream",
     "text": [
      "Такой темы не существует. Доступные темы можно получить с помощью метода show_themes()\n"
     ]
    }
   ],
   "source": [
    "par.get_content(theme='Смешарики', content = 'news')"
   ]
  },
  {
   "cell_type": "code",
   "execution_count": 161,
   "metadata": {},
   "outputs": [
    {
     "name": "stdout",
     "output_type": "stream",
     "text": [
      "Тип контента только news или article\n"
     ]
    }
   ],
   "source": [
    "par.get_content(theme='Python', content = 'homework', count=3)"
   ]
  },
  {
   "cell_type": "code",
   "execution_count": null,
   "metadata": {},
   "outputs": [],
   "source": []
  }
 ],
 "metadata": {
  "kernelspec": {
   "display_name": "Python 3",
   "language": "python",
   "name": "python3"
  },
  "language_info": {
   "codemirror_mode": {
    "name": "ipython",
    "version": 3
   },
   "file_extension": ".py",
   "mimetype": "text/x-python",
   "name": "python",
   "nbconvert_exporter": "python",
   "pygments_lexer": "ipython3",
   "version": "3.6.5"
  }
 },
 "nbformat": 4,
 "nbformat_minor": 2
}
